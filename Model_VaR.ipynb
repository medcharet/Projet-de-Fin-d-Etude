{
 "cells": [
  {
   "cell_type": "markdown",
   "metadata": {},
   "source": [
    "# Packages necessary\n"
   ]
  },
  {
   "cell_type": "code",
   "execution_count": null,
   "metadata": {},
   "outputs": [],
   "source": [
    "import pandas as pd\n",
    "import numpy as np\n",
    "import matplotlib.pyplot as plt\n",
    "import seaborn as sns\n",
    "from scipy import stats \n",
    "from scipy.interpolate import interp1d\n",
    "from datetime import timedelta\n",
    "from scipy.stats import gmean\n",
    "from scipy.optimize import minimize\n",
    "from datetime import datetime\n",
    "from statistics import mean\n",
    "# Importations nécessaires\n",
    "from scipy.stats import norm,chi2\n",
    "import ipywidgets as widgets\n",
    "from IPython.display import display\n",
    "import warnings\n",
    "from scipy.stats import chi2, binom\n",
    "\n",
    "warnings.filterwarnings(\"ignore\")"
   ]
  },
  {
   "cell_type": "code",
   "execution_count": null,
   "metadata": {},
   "outputs": [],
   "source": [
    "# import os\n",
    "# os._exit(00)\n"
   ]
  },
  {
   "cell_type": "markdown",
   "metadata": {},
   "source": [
    "Definissons les tests pour le Backtesting"
   ]
  },
  {
   "cell_type": "code",
   "execution_count": null,
   "metadata": {},
   "outputs": [],
   "source": [
    "def test_var(pnl, var, alpha):\n",
    "    # Calcul des bornes vertes et jaunes\n",
    "    Borne_Green = stats.binom.ppf(0.950, len(pnl), alpha) #0.01\n",
    "    Borne_Yellow = stats.binom.ppf(0.999, len(pnl), alpha)\n",
    "    \n",
    "    # Calcul du nombre total de violations\n",
    "    violations = (pnl < var).sum() # combien des P&L qui sont inferieur de -VaR=var(je considere la VaR est positive)\n",
    "    \n",
    "    # Déterminer la zone de la proportion d'exceptions\n",
    "    if violations <= Borne_Green:\n",
    "        zone = 'Verte --- Satisfaisante par rapport au niveau de confiance'\n",
    "    elif violations <= Borne_Yellow:\n",
    "        zone = 'Jaune --- Légèrement élevée pour le niveau de confiance'\n",
    "    else:\n",
    "        zone = 'Rouge --- Très élevée pour le niveau de confiance'\n",
    "    \n",
    "    return zone \n",
    "\n",
    "## Test de Vraisemblance\n",
    "def test_hypothesis_and_compute_statistic(PnLs, Var, alpha, significance_level = 0.95):\n",
    "    N = len(PnLs)\n",
    "    X = (PnLs > Var).sum()\n",
    "\n",
    "    q =  1 - alpha #alpha = 95% \n",
    "    dof  = 1 \n",
    "\n",
    "    # Calcul de la première partie de la formule\n",
    "    part1 = (N - X) / (q * (N))\n",
    "    \n",
    "    # Calcul de la deuxième partie de la formule\n",
    "    part2 = X / ((1 - q) * (N))\n",
    "    \n",
    "    # Logarithme de la première partie élevée à la puissance (N - X)\n",
    "    log_part1 = (N - X) * np.log(part1)\n",
    "    \n",
    "    # Logarithme de la deuxième partie élevée à la puissance X\n",
    "    log_part2 = X * np.log(part2)\n",
    "    \n",
    "    # Somme des logarithmes\n",
    "    log_sum = log_part1 + log_part2\n",
    "    \n",
    "    # Multiplier par 2 pour obtenir -2log(Λ)\n",
    "    statistic = 2 * log_sum\n",
    "    \n",
    "    # Le p value\n",
    "    pvalue = 1 - stats.chi2.cdf(statistic, dof)\n",
    "    \n",
    "    # Quantile critique pour la distribution chi-carré avec 'dof' degrés de liberté\n",
    "    critical_value = chi2.ppf(significance_level, dof)\n",
    "    \n",
    "    # Test de l'hypothèse\n",
    "    if statistic > critical_value:\n",
    "        result = \"Reject H0: q*(Pr[It(alpha) = 1] = E[It(alpha)] = alpha=.99) != q\"\n",
    "    else:\n",
    "        result = \"Accept H0: q*(Pr[It(alpha) = 1] = E[It(alpha)] = alpha=0.99) = q\"\n",
    "    \n",
    "    return pvalue,statistic, result\n"
   ]
  },
  {
   "cell_type": "markdown",
   "metadata": {},
   "source": [
    "# Notes sur le modèle CIR\n",
    "\n",
    "- Nous remarquons que cela est très similaire au modèle de Vasicek, avec l'ajout unique du terme $\\sqrt(r_t)$.\n",
    "- Ce terme tendra vers zéro lorsque le taux court approche de zéro, éliminant efficacement la volatilité lorsque le taux court diminue.\n",
    "- L'ajout de ce terme forcera $r_t$ à rester non négatif dans le modèle CIR, contrairement au modèle de Vasicek.\n",
    "- Cependant, un inconvénient majeur est que l'ajout du terme limitant la volatilité rend le modèle CIR, contrairement au modèle de Vasicek, non gaussien.(En d'autres termes, les variations du taux d'intérêt ne suivent plus une distribution gaussienne, mais une autre distribution plus complexe.)\n"
   ]
  },
  {
   "cell_type": "code",
   "execution_count": null,
   "metadata": {},
   "outputs": [],
   "source": [
    "# Chargement des données depuis le fichier Excel\n",
    "data_BDT = pd.read_excel(r'C:\\Users\\hp\\Desktop\\Global folder for PFE\\trainig intership\\Calculation_VaR\\data\\BDT.xlsx')\n",
    "data_BDT.describe()"
   ]
  },
  {
   "cell_type": "code",
   "execution_count": null,
   "metadata": {},
   "outputs": [],
   "source": [
    "data_zc=pd.read_excel(r'C:\\Users\\hp\\Desktop\\Global folder for PFE\\trainig intership\\Calculation_VaR\\data\\data_zc.xlsx')\n",
    "df=data_zc.copy()"
   ]
  },
  {
   "cell_type": "code",
   "execution_count": 167,
   "metadata": {},
   "outputs": [],
   "source": [
    "df.to_csv(\"df.csv\")"
   ]
  },
  {
   "cell_type": "code",
   "execution_count": null,
   "metadata": {},
   "outputs": [],
   "source": [
    "maturities = np.array(\n",
    "    [ 1/365.25  , 7/365.25, 1/12, 2/12 , 3/12, 6/12, 9/12, 1 , 2 , 3 , 4 , 5 , 6 , \n",
    "  7 , 8 , 9 , 10 , 11 , 12 , 13 , 14 , 15 , 16 , 17 , 18 , \n",
    "  19 , 20 , 21 , 22 , 23 , 24 , 25 , 26 , 27 , 28 , 29 , 30]\n",
    ")"
   ]
  },
  {
   "cell_type": "code",
   "execution_count": null,
   "metadata": {},
   "outputs": [],
   "source": [
    "# Calcul Taux zc CIR---------------------------------------------------------------------\n",
    "def A(x, a, b, sigma):                                                                  #\n",
    "    gamma = np.sqrt(a**2 + 2 * sigma**2)\n",
    "    numerator = 2 * gamma * np.exp((a + gamma) * (x) / 2)\n",
    "    denominator = (a + gamma) * (np.exp(gamma * (x)) - 1) + 2 * gamma                       \n",
    "    return (numerator / denominator) ** (2 * a * b / sigma**2)\n",
    "def B(x, a, sigma):\n",
    "    gamma = np.sqrt(a**2 + 2 * sigma**2)\n",
    "    numerator = 2 * (np.exp(gamma * (x)) - 1)\n",
    "    denominator = (a + gamma) * (np.exp(gamma * (x)) - 1) + 2 * gamma\n",
    "    d=numerator / denominator\n",
    "    return d\n",
    "def P(x, rt, a, b, sigma):\n",
    "    return A(x, a, b, sigma) * np.exp(-B(x, a, sigma) * rt)\n",
    "# Taux zc CIR s'ecrit sous:\n",
    "def R(x, r, a, b, sigma):\n",
    "    return np.log(P(x, r, a, b, sigma))/(-x) if x!=0 else  r # here x is T-t !!!\n",
    "#-------------------------------------------------------------------------------------------\n",
    "# Taux zc Vasicek---------------------------------------------------------------------------\n",
    "def P_vasi(x, rt, a, b, sigma):\n",
    "    B_x = (1 - np.exp(-a * x)) / a\n",
    "    A_x = np.exp(((B_x - x) * (a**2 * b - (sigma**2)/2)) / (a**2) - ((sigma**2 * B_x**2) / (4 * a)))\n",
    "    return A_x * np.exp(-B_x * rt)\n",
    "# Taux Vasicek s'ecrit sous:\n",
    "def R_vasi(x, r, a, b, sigma):\n",
    "    return np.log(P_vasi(x, r, a, b, sigma))/(-x) if x!=0 else  r # here x is T-t !!!"
   ]
  },
  {
   "cell_type": "code",
   "execution_count": null,
   "metadata": {},
   "outputs": [],
   "source": [
    "maturities"
   ]
  },
  {
   "cell_type": "code",
   "execution_count": null,
   "metadata": {},
   "outputs": [],
   "source": [
    "def objective(params:list):\n",
    "    \"\"\" \n",
    "    T\n",
    "    \"\"\" \n",
    "    a, b, sigma = params\n",
    "    error = 0\n",
    "    for row in df_c.values:\n",
    "        for i in range(1, len(row)):  # Commencer à partir de la deuxième colonne\n",
    "            t = row[0]\n",
    "            T = maturities[i-1]  # Indexation de 0 pour la première colonne, donc i-1 pour maturities\n",
    "            P = row[i]\n",
    "            YY_YT = R(T, row[1], a, b, sigma) # les Y estimés\n",
    "            error += (P - YY_YT)**2\n",
    "    return error\n",
    "           \n",
    "# # Valeurs initiales pour a, b, sigma\n",
    "# initial_guess = [0.01, 0.05, 0.01]\n",
    "# # --------------------------Optimization--------------------------------\n",
    "# # Minimiser la fonction objective\n",
    "# result = minimize(objective, initial_guess, method='L-BFGS-B')\n",
    "\n",
    "# # Les valeurs optimales de a, b, sigmassssssssssssaqwwwwwwwwwssssza\n",
    "# a_opt, b_opt, sigma_opt = result.x\n",
    "# print(\"Valeurs optimales de a, b, sigma:\", a_opt, b_opt, sigma_opt)\n",
    "# # Les valeurs optimales de a, b, sigma\n",
    "\n",
    "\n",
    "# a_opt, b_opt, sigma_opt = result.x\n",
    "\n",
    "# print(\"Valeurs optimales de a, b, sigma:\", a_opt, b_opt, sigma_opt)"
   ]
  },
  {
   "cell_type": "code",
   "execution_count": 172,
   "metadata": {},
   "outputs": [],
   "source": [
    "# a, b, sigma= 0.005487472530570595, 0.5571411225041425, 0.08329893264240101 # nelder Mead\n",
    "# a, b, sigma= 0.0035735273124092104, 0.8926557762997658, 0.08187452356276576\n",
    "\n",
    "# a, b, sigma=a_opt, b_opt, sigma_opt\n",
    "# ML\n",
    "# a = 0.01\n",
    "# b = 0.05\n",
    "# sigma = 0.01\n",
    "\n",
    "# Estimation de alpha: 0.011378255165944127\n",
    "# Estimation de mu: 0.027605692944953873\n",
    "# Estimation de sigma: 0.007090485127573163\n",
    "a= 0.1137805121585627\n",
    "b =0.05011965977532673\n",
    "sigma= 0.019999641509027735\n",
    "\n",
    "# a, b, sigma = 0.04413108, 0.0849325 , 0.01102  # VasiceK\n",
    "# a=0.011378255165944127\n",
    "# b= 0.027605692944953873\n",
    "# # sigma=0.5\n",
    "# sigma =  0.007103662246569265\n",
    "# a     =  0.011538576605948814\n",
    "# b     =  0.027455280630213262\n"
   ]
  },
  {
   "cell_type": "code",
   "execution_count": 173,
   "metadata": {},
   "outputs": [
    {
     "data": {
      "image/png": "[encoded data removed]",
      "text/plain": [
       "<Figure size 640x480 with 1 Axes>"
      ]
     },
     "metadata": {},
     "output_type": "display_data"
    }
   ],
   "source": [
    "# a, b, sigma = 0.04413108, 0.0849325 , 0.01102  # VasiceK\n",
    "dd_est = data_zc.copy() \n",
    "\n",
    "matrixx = []            \n",
    "\n",
    "for row in dd_est.values:\n",
    "    for i in range(1, len(row)):  # Commencer à partir de la deuxième colonne \n",
    "        T = maturities[i-1]       # Indexation de 0 pour la première colonne, donc i-1 pour maturities\n",
    "        YY_YT = R(T, row[1], a, b, sigma)\n",
    "        row[i] = YY_YT\n",
    "    matrixx.append(list(row))\n",
    "data_Modeled_CIR=pd.DataFrame(matrixx,columns=dd_est.columns)      \n",
    "# Date spécifique pour laquelle tracer les courbes\n",
    "date_specifique = \"2010-01-06\"\n",
    "daf=df\n",
    "donnees_modeled_specifique=data_Modeled_CIR[data_Modeled_CIR[\"Date de référence\"]==date_specifique]\n",
    "donnees_date_specifique = df[df[\"Date de référence\"] == date_specifique]\n",
    "taux_observés = donnees_date_specifique.iloc[0, 1:].values.astype(float)\n",
    "\n",
    "taux_modélisés = donnees_modeled_specifique.iloc[0, 1:].values.astype(float)\n",
    "# Tracer les courbes des taux zéro-coupon observés et modélisés\n",
    "plt.plot(maturities, taux_observés, label='Taux zéro-coupon observés')\n",
    "plt.plot(maturities, taux_modélisés, label='Taux zéro-coupon modélisés')\n",
    "plt.xlabel('maturités (en années)')\n",
    "plt.ylabel('Taux')\n",
    "plt.title('Courbe des taux zéro-coupon observés et modélisés pour le ' + date_specifique)\n",
    "plt.legend()\n",
    "plt.grid(True)\n",
    "plt.show()"
   ]
  },
  {
   "attachments": {
    "image.png": {
     "image/png": "[encoded data removed]"
    }
   },
   "cell_type": "markdown",
   "metadata": {},
   "source": [
    "![image.png](attachment:image.png)"
   ]
  },
  {
   "cell_type": "code",
   "execution_count": 156,
   "metadata": {},
   "outputs": [],
   "source": [
    "data=df.copy()\n",
    "data.columns=['Date de référence']+ list(maturities)\n",
    "# data.to_excel(\"donnees_modifiees.xlsx\", index=False)\n",
    "# data[data[\"Date de référence\"]==\"2023-03-03\"]\n",
    "# data.iloc[0]"
   ]
  },
  {
   "cell_type": "code",
   "execution_count": null,
   "metadata": {},
   "outputs": [],
   "source": [
    "def find_nearest_date(date, data):\n",
    "    nearest_date = data.iloc[(data['Date de référence'] - date).abs().idxmin()]\n",
    "    return nearest_date.iloc[1:]\n",
    "\n",
    "def Valorisation_BDT_Sim(tx, N, rt,d_val, d_ech):\n",
    "        date_ver_c = []\n",
    "        date_ver_c.append(d_ech)\n",
    "        x = d_ech\n",
    "        while x> d_val:\n",
    "            date_ver_c.append(x)\n",
    "            x = x - timedelta(days=365.25)\n",
    "        date_ver_c.sort()\n",
    "        mat = [(date - d_val).days / 365.25 for date in date_ver_c]\n",
    "        valeur = 0\n",
    "        def zc(t):\n",
    "             return R_vasi(t,rt,a,b,sigma)\n",
    "        for i in range(len(mat)):                    \n",
    "            t=mat[i]    \n",
    "            valeur += N * tx / (1 + zc(t)) ** (t)          \n",
    "        valeur += N / (1 + zc(mat[-1])) ** mat[-1]\n",
    "        return valeur\n",
    "\n",
    "## \n",
    "\n",
    "def Valorisation_BDT(tx, N, r, d_val, d_ech):\n",
    "        date_ver_c = []\n",
    "        date_ver_c.append(d_ech)\n",
    "        x = d_ech\n",
    "        while x  > d_val:\n",
    "            date_ver_c.append(x)\n",
    "            x = x - timedelta(days=365.25)\n",
    "        date_ver_c.sort()\n",
    "        \n",
    "        mat = [(date - d_val).days / 365.25 for date in date_ver_c]\n",
    "        \n",
    "        zc = interp1d(maturities,r,kind='linear',fill_value='extrapolate')\n",
    "        valeur = 0\n",
    "        for i in range(len(mat)):\n",
    "            t=mat[i]\n",
    "            # valeur += (N * tx / (1 + int_r(r,t) if t<30 else int_r(r,30) ) ** t)\n",
    "            valeur += (N * tx / (1 + zc(t)) ** t)\n",
    "            \n",
    "        # valeur += N / (1 + int_r(r,mat[-1])) ** mat[-1]\n",
    "        valeur += N / (1 + zc(mat[-1])) ** mat[-1]\n",
    "        return valeur \n",
    "# d_val = datetime.strptime(\"04/03/2023\", \"%d/%m/%Y\")\n",
    "# d_ech = datetime.strptime(\"07/06/2026\", \"%d/%m/%Y\")\n",
    "# g=Valorisation_BDT( 0.062,210000000, data.iloc[0,1:], d_val, d_ech)                "
   ]
  },
  {
   "cell_type": "code",
   "execution_count": 157,
   "metadata": {},
   "outputs": [],
   "source": [
    "data_Valorisation_Date=data_BDT.copy()\n",
    "# Conversion des colonnes 'dt/val' et 'dt/ech' en objets datetime\n",
    "data_Valorisation_Date['dt/val'] = data_Valorisation_Date['dt/val'].apply(lambda x: x.to_pydatetime())\n",
    "data_Valorisation_Date['dt/ech'] = data_Valorisation_Date['dt/ech'].apply(lambda x: x.to_pydatetime())"
   ]
  },
  {
   "cell_type": "code",
   "execution_count": null,
   "metadata": {},
   "outputs": [],
   "source": [
    "\n",
    "# def find_nearest_date(date, data):\n",
    "#     nearest_date = data.iloc[(data['Date de référence'] - date).abs().idxmin()]\n",
    "#     return nearest_date.iloc[1:]\n",
    "\n",
    "# # j'ai ajouter cette ligne pour valoriser mon port au date au valeur\n",
    "# data_Valorisation_Date['Valorisation_à_la_date_'+ str(Date_Valeur)]= data_Valorisation_Date.apply(lambda row: Valorisation_BDT(row['txno']/100, row['nominal'], find_nearest_date(Date_Valeur, data) , Date_Valeur, row['dt/ech']), axis=1)                                            \n",
    "# for sem in range(104):\n",
    "#     date=date - timedelta(days=7)                                        \n",
    "#     data_Valorisation_Date['Valorisation_à_la_date_'+ str(date)]= data_Valorisation_Date.apply(lambda row: Valorisation_BDT(row['txno']/100, row['nominal'], find_nearest_date(date, data) , date, row['dt/ech']), axis=1)                                            "
   ]
  },
  {
   "cell_type": "code",
   "execution_count": null,
   "metadata": {},
   "outputs": [],
   "source": [
    "Date_Valeur=datetime.strptime(\"2024-04-16\", \"%Y-%m-%d\") # Date de Valorisation de notre portefeuil\n",
    "date=Date_Valeur\n",
    "date"
   ]
  },
  {
   "cell_type": "code",
   "execution_count": null,
   "metadata": {},
   "outputs": [],
   "source": [
    "dates=df['Date de référence'].apply(lambda x: x.to_pydatetime())\n",
    "dates"
   ]
  },
  {
   "cell_type": "code",
   "execution_count": null,
   "metadata": {},
   "outputs": [],
   "source": [
    "date=dates[0]\n",
    "date"
   ]
  },
  {
   "cell_type": "code",
   "execution_count": null,
   "metadata": {},
   "outputs": [],
   "source": [
    "dates[3181]"
   ]
  },
  {
   "cell_type": "code",
   "execution_count": null,
   "metadata": {},
   "outputs": [],
   "source": [
    "# Supposons que votre DataFrame s'appelle df et que la colonne des dates est \"Date_col\"\n",
    " \n",
    "indice_date = df[df[\"Date de référence\"] ==\"2010-01-06\"].index[0]\n",
    "indice_date\n"
   ]
  },
  {
   "cell_type": "code",
   "execution_count": null,
   "metadata": {},
   "outputs": [],
   "source": [
    "while date >= dates[3218]:\n",
    "    data_Valorisation_Date['Valorisation_à_la_date_'+ str(date)]= data_Valorisation_Date.apply(lambda row: Valorisation_BDT(row['txno']/100, row['nominal'], find_nearest_date(date, data) , date, row['dt/ech']), axis=1)  \n",
    "    date = date - timedelta(days=1)\n",
    "# for date in dates:\n",
    "#     data_Valorisation_Date['Valorisation_à_la_date_'+ str(date)]= data_Valorisation_Date.apply(lambda row: Valorisation_BDT(row['txno']/100, row['nominal'], find_nearest_date(date, data_zc) , date, row['dt/ech']), axis=1)\n",
    "                                            "
   ]
  },
  {
   "cell_type": "code",
   "execution_count": null,
   "metadata": {},
   "outputs": [],
   "source": [
    "# exporter les données en format excel\n",
    "data_Valorisation_Date.to_excel('Valorsiation du portefeuil.xlsx')"
   ]
  },
  {
   "cell_type": "markdown",
   "metadata": {},
   "source": [
    "#### Calculon la VaR"
   ]
  },
  {
   "cell_type": "markdown",
   "metadata": {},
   "source": [
    "##### Var Historique"
   ]
  },
  {
   "cell_type": "code",
   "execution_count": 158,
   "metadata": {},
   "outputs": [],
   "source": [
    "# sommer par date de valeur pour obtenr la valeur du portefeuil pour chaque date\n",
    "BDT_sum_Val_Port=data_Valorisation_Date.filter(regex='^Valorisation_à_la_date_').sum()\n",
    "# BDT_sum_Val_Port.to_numpy()                                                            "
   ]
  },
  {
   "cell_type": "code",
   "execution_count": null,
   "metadata": {},
   "outputs": [],
   "source": [
    "BDT_sum_Val_Port_df = pd.DataFrame({'Date_De_Valeur': BDT_sum_Val_Port.index, 'Valeur': BDT_sum_Val_Port.values})\n",
    "# BDT_sum_Val_Port_df = pd.read_excel(r'C:\\Users\\hp\\Desktop\\Global folder for PFE\\trainig intership\\py\\Calcul_VaR.xlsx', sheet_name='VaR Historique')\n",
    "BDT_sum_Val_Port_df['P&L']= BDT_sum_Val_Port_df['Valeur'] - BDT_sum_Val_Port_df['Valeur'].shift(-1)\n",
    "BDT_sum_Val_Port_df['Rendement']=np.log( BDT_sum_Val_Port_df['Valeur']/ BDT_sum_Val_Port_df['Valeur'].shift(-1))\n",
    "# Afficher le DataFrame     \n",
    "BDT_sum_Val_Port_df     "
   ]
  },
  {
   "cell_type": "code",
   "execution_count": null,
   "metadata": {},
   "outputs": [],
   "source": [
    "BDT_sum_Val_Port_df['Date_De_Valeur'] = BDT_sum_Val_Port_df['Date_De_Valeur'].apply(\n",
    "    lambda x: x.replace(\"Valorisation_à_la_date_\", \"\").replace(\" 00:00:00\", \"\")\n",
    ")"
   ]
  },
  {
   "cell_type": "code",
   "execution_count": null,
   "metadata": {},
   "outputs": [],
   "source": [
    "BDT_sum_Val_Port_df"
   ]
  },
  {
   "cell_type": "code",
   "execution_count": null,
   "metadata": {},
   "outputs": [],
   "source": [
    "import pandas as pd\n",
    "from statsmodels.tsa.stattools import adfuller\n",
    "\n",
    "# Charger les données\n",
    "\n",
    "\n",
    "dfd = BDT_sum_Val_Port_df.copy()\n",
    "# dfd[\"Date_De_Valeur\"] = pd.to_datetime(dfd[\"Date_De_Valeur\"])\n",
    "\n",
    "# Supprimer les lignes avec des valeurs manquantes\n",
    "dfd.dropna(inplace=True)\n",
    "\n",
    "# Test de Dickey-Fuller augmenté\n",
    "result = adfuller(dfd[\"P&L\"])\n",
    "\n",
    "print('ADF Statistic:', result[0])\n",
    "print('p-value:', result[1])\n",
    "print('Critical Values:')\n",
    "for key, value in result[4].items():\n",
    "    print('\\t%s: %.3f' % (key, value))\n"
   ]
  },
  {
   "cell_type": "code",
   "execution_count": null,
   "metadata": {},
   "outputs": [],
   "source": [
    "# VaR_Hist = BDT_sum_Val_Port_df['P&L'].quantile(0.01)  # Le quantile médian (50e percentile)\n",
    "VaR_Hist = BDT_sum_Val_Port_df['Rendement'].quantile(0.01)*BDT_sum_Val_Port_df['Valeur'][0]\n",
    "VaR_Hist"
   ]
  },
  {
   "cell_type": "code",
   "execution_count": null,
   "metadata": {},
   "outputs": [],
   "source": [
    "# test_var(BDT_sum_Val_Port_df['P&L'], VaR_Hist, 0.01)"
   ]
  },
  {
   "cell_type": "code",
   "execution_count": null,
   "metadata": {},
   "outputs": [],
   "source": [
    "# test_hypothesis_and_compute_statistic(BDT_sum_Val_Port_df['P&L'], x, 0.99, significance_level = 0.95)"
   ]
  },
  {
   "cell_type": "code",
   "execution_count": null,
   "metadata": {},
   "outputs": [],
   "source": [
    "# test_var(BDT_sum_Val_Port_df['P&L'], VaR_MonteCa, 0.01)"
   ]
  },
  {
   "cell_type": "code",
   "execution_count": null,
   "metadata": {},
   "outputs": [],
   "source": [
    "BDT_sum_Val_Port_df['P&L_exceeds_VaR'] = BDT_sum_Val_Port_df['P&L'] < VaR_Hist\n",
    "\n",
    "# Compter combien de fois P&L dépasse VaR_Hist\n",
    "count_exceeds = BDT_sum_Val_Port_df['P&L_exceeds_VaR'].sum()\n",
    "\n",
    "# Calculer le pourcentage d'occurrences\n",
    "total_count = len(BDT_sum_Val_Port_df)\n",
    "percentage_exceeds = (count_exceeds / total_count) * 100\n",
    "\n",
    "# Afficher le résultat\n",
    "print(f\"Le pourcentage de dépassement de P&L par rapport à VaR_Hist est de {percentage_exceeds:.2f}%\")\n",
    "exceeding_pnl_df = BDT_sum_Val_Port_df[BDT_sum_Val_Port_df['P&L'] < VaR_Hist]\n",
    "\n",
    "# Afficher le DataFrame filtré\n",
    "len(exceeding_pnl_df)\n"
   ]
  },
  {
   "cell_type": "code",
   "execution_count": null,
   "metadata": {},
   "outputs": [],
   "source": [
    "BDT_sum_Val_Port_df.to_excel(\"Valorisation.xlsx\")"
   ]
  },
  {
   "cell_type": "markdown",
   "metadata": {},
   "source": [
    "##### VaR MonteCarlo"
   ]
  },
  {
   "cell_type": "code",
   "execution_count": 159,
   "metadata": {},
   "outputs": [],
   "source": [
    "data_Simule=data_BDT.copy()\n",
    "\n",
    "# a, b, sigma = 0.04413108, 0.0849325 , 0.01102"
   ]
  },
  {
   "cell_type": "code",
   "execution_count": 161,
   "metadata": {},
   "outputs": [],
   "source": [
    "# Function to simulate interest rates using CIR model\n",
    "dt=1/365\n",
    "z_matrix=[]\n",
    "def simulate_cir_vas(rt_prev, a, b, sigma, dt,horizone = 1): \n",
    "    rt = rt_prev #0jrs\n",
    "    for _ in range(int(horizone)) : \n",
    "        dWt = np.random.normal(0, np.sqrt(dt))   \n",
    "        rt = rt + a * (b - rt) * dt +np.sqrt(rt)*sigma * dWt \n",
    "    return rt # aprs h jours\n",
    "# a, b, sigma= 0.028959627154054465, 0.13503538016652458, 0.01497951439088685\n",
    "Date_Valeur = datetime.strptime(\"2024-04-16\", \"%Y-%m-%d\")\n",
    "date = Date_Valeur     \n",
    "for scenario in range(6000):\n",
    "    rt=simulate_cir_vas(0.031, a, b, sigma, dt,horizone=1)  # Initialize short rate for each scenario\n",
    "    zc = [R(x, rt, a, b, sigma) for x in maturities]\n",
    "    z_matrix.append(zc)\n",
    "    data_Simule['Valorisation_scenario_' + str(scenario)] = data_Simule.apply(lambda row: Valorisation_BDT_Sim(row['txno']/100, row['nominal'], rt, date, row['dt/ech']), axis=1)"
   ]
  },
  {
   "cell_type": "code",
   "execution_count": null,
   "metadata": {},
   "outputs": [],
   "source": [
    "data_Simule.columns[7:]"
   ]
  },
  {
   "cell_type": "code",
   "execution_count": null,
   "metadata": {},
   "outputs": [],
   "source": [
    "Matrice_zc = pd.DataFrame(z_matrix, index=data_Simule.columns[7:].tolist(), columns=df.columns[1:].tolist())\n",
    "# rename columns\n",
    "Matrice_zc.rename(index=lambda x: x.replace(\"Valorisation_scenario_\", \"scenario_\"), inplace=True)"
   ]
  },
  {
   "cell_type": "code",
   "execution_count": 162,
   "metadata": {},
   "outputs": [],
   "source": [
    "# sommer par date de valeur pour obtenr la valeur du portefeuil pour chaque date\n",
    "BDT_sum_Val_Port_Simule=data_Simule.filter(regex='^Valorisation_scenario_').sum()\n",
    "BDT_sum_Val_Port_Simule_df = pd.DataFrame({'Date_De_Valeur': BDT_sum_Val_Port_Simule.index, 'Valeur': BDT_sum_Val_Port_Simule.values})\n",
    "# BDT_sum_Val_Port_Simule_df=pd.read_excel(r'C:\\Users\\hp\\Desktop\\Global folder for PFE\\trainig intership\\py\\Calcul_VaR.xlsx', sheet_name='VaR MonteCarlo')"
   ]
  },
  {
   "cell_type": "code",
   "execution_count": 163,
   "metadata": {},
   "outputs": [
    {
     "data": {
      "text/html": [
       "<div>\n",
       "<style scoped>\n",
       "    .dataframe tbody tr th:only-of-type {\n",
       "        vertical-align: middle;\n",
       "    }\n",
       "\n",
       "    .dataframe tbody tr th {\n",
       "        vertical-align: top;\n",
       "    }\n",
       "\n",
       "    .dataframe thead th {\n",
       "        text-align: right;\n",
       "    }\n",
       "</style>\n",
       "<table border=\"1\" class=\"dataframe\">\n",
       "  <thead>\n",
       "    <tr style=\"text-align: right;\">\n",
       "      <th></th>\n",
       "      <th>Date_De_Valeur</th>\n",
       "      <th>Valeur</th>\n",
       "    </tr>\n",
       "  </thead>\n",
       "  <tbody>\n",
       "    <tr>\n",
       "      <th>0</th>\n",
       "      <td>Valorisation_scenario_0</td>\n",
       "      <td>1.848220e+10</td>\n",
       "    </tr>\n",
       "    <tr>\n",
       "      <th>1</th>\n",
       "      <td>Valorisation_scenario_1</td>\n",
       "      <td>1.848479e+10</td>\n",
       "    </tr>\n",
       "    <tr>\n",
       "      <th>2</th>\n",
       "      <td>Valorisation_scenario_2</td>\n",
       "      <td>1.848660e+10</td>\n",
       "    </tr>\n",
       "    <tr>\n",
       "      <th>3</th>\n",
       "      <td>Valorisation_scenario_3</td>\n",
       "      <td>1.848533e+10</td>\n",
       "    </tr>\n",
       "    <tr>\n",
       "      <th>4</th>\n",
       "      <td>Valorisation_scenario_4</td>\n",
       "      <td>1.848762e+10</td>\n",
       "    </tr>\n",
       "    <tr>\n",
       "      <th>...</th>\n",
       "      <td>...</td>\n",
       "      <td>...</td>\n",
       "    </tr>\n",
       "    <tr>\n",
       "      <th>5995</th>\n",
       "      <td>Valorisation_scenario_5995</td>\n",
       "      <td>1.847270e+10</td>\n",
       "    </tr>\n",
       "    <tr>\n",
       "      <th>5996</th>\n",
       "      <td>Valorisation_scenario_5996</td>\n",
       "      <td>1.846584e+10</td>\n",
       "    </tr>\n",
       "    <tr>\n",
       "      <th>5997</th>\n",
       "      <td>Valorisation_scenario_5997</td>\n",
       "      <td>1.845826e+10</td>\n",
       "    </tr>\n",
       "    <tr>\n",
       "      <th>5998</th>\n",
       "      <td>Valorisation_scenario_5998</td>\n",
       "      <td>1.848526e+10</td>\n",
       "    </tr>\n",
       "    <tr>\n",
       "      <th>5999</th>\n",
       "      <td>Valorisation_scenario_5999</td>\n",
       "      <td>1.848195e+10</td>\n",
       "    </tr>\n",
       "  </tbody>\n",
       "</table>\n",
       "<p>6000 rows × 2 columns</p>\n",
       "</div>"
      ],
      "text/plain": [
       "                  Date_De_Valeur        Valeur\n",
       "0        Valorisation_scenario_0  1.848220e+10\n",
       "1        Valorisation_scenario_1  1.848479e+10\n",
       "2        Valorisation_scenario_2  1.848660e+10\n",
       "3        Valorisation_scenario_3  1.848533e+10\n",
       "4        Valorisation_scenario_4  1.848762e+10\n",
       "...                          ...           ...\n",
       "5995  Valorisation_scenario_5995  1.847270e+10\n",
       "5996  Valorisation_scenario_5996  1.846584e+10\n",
       "5997  Valorisation_scenario_5997  1.845826e+10\n",
       "5998  Valorisation_scenario_5998  1.848526e+10\n",
       "5999  Valorisation_scenario_5999  1.848195e+10\n",
       "\n",
       "[6000 rows x 2 columns]"
      ]
     },
     "execution_count": 163,
     "metadata": {},
     "output_type": "execute_result"
    }
   ],
   "source": [
    "BDT_sum_Val_Port_Simule_df"
   ]
  },
  {
   "cell_type": "code",
   "execution_count": 164,
   "metadata": {},
   "outputs": [
    {
     "data": {
      "text/plain": [
       "133853444.30012442"
      ]
     },
     "execution_count": 164,
     "metadata": {},
     "output_type": "execute_result"
    }
   ],
   "source": [
    "BDT_sum_Val_Port_Simule_df['P&L']= BDT_sum_Val_Port_Simule_df['Valeur'] - BDT_sum_Val_Port_df['Valeur'][0] \n",
    "BDT_sum_Val_Port_Simule_df['Rendement']= np.log(BDT_sum_Val_Port_Simule_df['Valeur']/ BDT_sum_Val_Port_df['Valeur'][0] )\n",
    "\n",
    "# Afficher le DataFrame\n",
    "VaR_MonteCa = BDT_sum_Val_Port_Simule_df['Rendement'].quantile(0.01)*BDT_sum_Val_Port_df['Valeur'][0]  # Le quantile \n",
    "VaR_MonteCa "
   ]
  },
  {
   "cell_type": "code",
   "execution_count": null,
   "metadata": {},
   "outputs": [],
   "source": [
    "Matrice_zc"
   ]
  },
  {
   "cell_type": "code",
   "execution_count": null,
   "metadata": {},
   "outputs": [],
   "source": [
    "import numpy as np\n",
    "import pandas as pd\n",
    "import matplotlib.pyplot as plt\n",
    "import seaborn as sns\n",
    "from scipy.interpolate import make_interp_spline\n",
    "\n",
    "# Supposons que Matrice_zc soit déjà votre DataFrame\n",
    "\n",
    "# Créer le graphique\n",
    "sns.set(style=\"whitegrid\")\n",
    "plt.figure(figsize=(14, 10))\n",
    "\n",
    "# Utiliser une palette de couleurs différentes pour chaque ligne\n",
    "colors = sns.color_palette(\"husl\", len(Matrice_zc.columns))\n",
    "\n",
    "# Tracer chaque colonne (maturité)\n",
    "for i, column in enumerate(Matrice_zc.columns):\n",
    "    x = np.arange(len(Matrice_zc.index))  # Indices numériques pour l'axe x\n",
    "    y = Matrice_zc[column]\n",
    "    \n",
    "    # Interpolation pour une courbe lisse\n",
    "    x_smooth = np.linspace(x.min(), x.max(), 300)\n",
    "    y_smooth = make_interp_spline(x, y)(x_smooth)\n",
    "    \n",
    "    plt.plot(x_smooth, y_smooth, color=colors[i], linewidth=2.5, label=column)\n",
    "    # plt.scatter(x, y, color='black', s=50)  # Ajouter des points en noir pour les données réelles\n",
    "\n",
    "# Ajouter le titre et les labels\n",
    "plt.title(\"Évolution des taux d'intérêt simulés\", fontsize=20)\n",
    "plt.xlabel(\"Scénarios\", fontsize=15)\n",
    "plt.ylabel(\"Taux d'intérêt\", fontsize=15)\n",
    "\n",
    "# Ajouter une légende avec plus de personnalisation\n",
    "plt.legend(title='Maturités', title_fontsize='13', fontsize='11', loc='upper left', bbox_to_anchor=(1, 1))\n",
    "\n",
    "# Ajouter une grille\n",
    "plt.grid(True)\n",
    "\n",
    "# Afficher le graphique\n",
    "plt.tight_layout()\n",
    "plt.savefig(\"taux.pdf\")\n",
    "plt.show()\n"
   ]
  },
  {
   "cell_type": "code",
   "execution_count": null,
   "metadata": {},
   "outputs": [],
   "source": [
    "with pd.ExcelWriter(r'C:\\Users\\hp\\Desktop\\Global folder for PFE\\trainig intership\\Calculation_VaR\\data_exportes\\Calcul_VaR.xlsx', engine='openpyxl') as writer:\n",
    "    Matrice_zc.to_excel(writer, sheet_name='Taux simulées', index=True)\n",
    "\n",
    "    BDT_sum_Val_Port_Simule_df.to_excel(writer, sheet_name='VaR MonteCarlo', index=False)\n",
    "\n",
    "    BDT_sum_Val_Port_df.to_excel(writer, sheet_name='VaR Historique', index=False)"
   ]
  },
  {
   "cell_type": "markdown",
   "metadata": {},
   "source": [
    "# ***************************************************************"
   ]
  },
  {
   "cell_type": "markdown",
   "metadata": {},
   "source": [
    "Dans cette section On va utiliser la methode analytique pour calculer la VaR"
   ]
  },
  {
   "cell_type": "markdown",
   "metadata": {},
   "source": [
    "### Test de la normalité"
   ]
  },
  {
   "cell_type": "code",
   "execution_count": null,
   "metadata": {},
   "outputs": [],
   "source": [
    "dff=BDT_sum_Val_Port_df.copy()\n",
    "plt.figure(figsize=(10, 6))\n",
    "sns.histplot(dff['Rendement'], bins=50, kde=True, color='blue')\n",
    "plt.title('Distribution des rendements')\n",
    "plt.xlabel('Rendements')\n",
    "plt.ylabel('Fréquence')\n",
    "plt.grid(True)\n",
    "plt.savefig(\"Normalite.pdf\")\n",
    "plt.show()\n",
    "\n",
    "# 3. Tests de normalité\n",
    "shapiro_test = stats.shapiro(dff['Rendement'])\n",
    "print(\"Test de Shapiro-Wilk (H0: la distribution est normale) : p-value =\", shapiro_test.pvalue)\n",
    "\n",
    "# 4. Ajustement de distributions\n",
    "# Vous pouvez essayer différentes distributions et ajuster leurs paramètres pour trouver la meilleure adéquation.\n"
   ]
  },
  {
   "cell_type": "markdown",
   "metadata": {},
   "source": [
    "there is not enough evidence to reject normality. so we consider that dist is normal"
   ]
  },
  {
   "cell_type": "code",
   "execution_count": null,
   "metadata": {},
   "outputs": [],
   "source": [
    "import numpy as np\n",
    "import matplotlib.pyplot as plt\n",
    "import scipy.stats as stats\n",
    "\n",
    "# Exemple de données de rendements\n",
    "rendements = np.random.normal(0, 0.01, 1000)  # Remplacez ceci par vos rendements réels\n",
    "\n",
    "# Q-Q plot\n",
    "plt.figure(figsize=(8, 6))\n",
    "stats.probplot(rendements, dist=\"norm\", plot=plt)\n",
    "plt.title(\"Q-Q Plot des Rendements\")\n",
    "plt.xlabel(\"Quantiles Théoriques\")\n",
    "plt.ylabel(\"Quantiles des Données\")\n",
    "plt.grid(True)\n",
    "\n",
    "# Enregistrer l'image\n",
    "plt.savefig('qq_plot_rendements.png')\n",
    "plt.show()\n"
   ]
  },
  {
   "cell_type": "code",
   "execution_count": null,
   "metadata": {},
   "outputs": [],
   "source": [
    "plt.figure(figsize=(8, 6))\n",
    "stats.probplot(dff['Rendement'], dist=\"norm\", plot=plt)\n",
    "plt.title('Q-Q plot des rendements')\n",
    "plt.xlabel('Quantiles théoriques (distribution normale)')\n",
    "plt.ylabel('Quantiles observés')\n",
    "plt.grid(True)\n",
    "plt.savefig(\"QQplot.pdf\")\n",
    "plt.show()"
   ]
  },
  {
   "cell_type": "code",
   "execution_count": null,
   "metadata": {},
   "outputs": [],
   "source": [
    "dff=dff.dropna()\n",
    "\n",
    "# 1. Test de distribution de Student (t-distribution)\n",
    "student_params = stats.t.fit(dff['Rendement'])\n",
    "student_dist = stats.t(*student_params)\n",
    "student_test = stats.kstest(dff['Rendement'], student_dist.cdf)\n",
    "print(\"Test de Kolmogorov-Smirnov (Student) : p-value =\", student_test.pvalue)\n",
    "\n",
    "# 2. Test de distribution du khi-deux (chi-squared)\n",
    "chi2_params = stats.chi2.fit(dff['Rendement'])\n",
    "chi2_dist = stats.chi2(*chi2_params)\n",
    "chi2_test = stats.kstest(dff['Rendement'], chi2_dist.cdf)\n",
    "print(\"Test de Kolmogorov-Smirnov (Chi-squared) : p-value =\", chi2_test.pvalue)\n"
   ]
  },
  {
   "cell_type": "markdown",
   "metadata": {},
   "source": [
    "On peut aajouter que notre distribution est normal"
   ]
  },
  {
   "cell_type": "code",
   "execution_count": null,
   "metadata": {},
   "outputs": [],
   "source": [
    "dff=dff.dropna()"
   ]
  },
  {
   "cell_type": "code",
   "execution_count": null,
   "metadata": {},
   "outputs": [],
   "source": [
    "from scipy.stats import jarque_bera\n",
    "\n",
    "# Test de Jarque-Bera\n",
    "jb_test_stat, jb_p_value = jarque_bera(dff['P&L'].dropna())\n",
    "\n",
    "print(\"Statistique de test de Jarque-Bera :\", jb_test_stat)\n",
    "print(\"p-value :\", jb_p_value)\n",
    "\n",
    "# Interprétation du test\n",
    "if jb_p_value < 0.05:\n",
    "    print(\"Les données ne suivent pas une distribution normale (rejet de l'hypothèse nulle)\")\n",
    "else:\n",
    "    print(\"Les données suivent une distribution normale (non-rejet de l'hypothèse nulle)\")\n"
   ]
  },
  {
   "cell_type": "markdown",
   "metadata": {},
   "source": [
    "On a effectué deux tests : le test de Jarque-Bera et le test de Shapiro. Alors que le test de Shapiro suggère que notre distribution est normale, le test de Jarque-Bera indique le contraire.\n",
    "\n",
    "Supposons que notre distribution suive une loi normale. Dès lors, déterminons les paramètres de cette loi."
   ]
  },
  {
   "cell_type": "code",
   "execution_count": null,
   "metadata": {},
   "outputs": [],
   "source": [
    "# Calcul de la moyenne et de l'écart-type empiriques des rendements\n",
    "mean_return = dff['Rendement'].mean()\n",
    "std_return = dff['Rendement'].std()\n",
    "\n",
    "print(\"Moyenne des rendements :\", mean_return)\n",
    "print(\"Écart-type des rendements :\", std_return)\n"
   ]
  },
  {
   "cell_type": "markdown",
   "metadata": {},
   "source": [
    "Pour déterminer la Value at Risk (VaR) au seuil de confiance de 99%, nous allon utiliser l'approche parametrique\n",
    "\n",
    "Rappelons que la VaR représente la perte maximale attendue pour un niveau de confiance donné sur une certaine période. Pour une distribution normale, la VaR peut être calculée en utilisant la formule suivante :\n",
    "\n",
    "$ \\text{VaR}_{99\\%} = \\text{mean} + \\text{std} \\times \\text{z-score}_{99\\%} $\n",
    "\n",
    "Où :\n",
    "- mean est la moyenne des rendements,\n",
    "- std est l'écart-type des rendements,\n",
    "- z-score_{99%} est le z-score correspondant au niveau de confiance de 99%.\n",
    "\n",
    "Le z-score associé à un niveau de confiance de 99% est généralement de 2.33 pour une distribution normale."
   ]
  },
  {
   "cell_type": "code",
   "execution_count": null,
   "metadata": {},
   "outputs": [],
   "source": [
    "# Calcul de la VaR au seuil de 99%\n",
    "z_score_99 = 2.33  # Z-score pour un niveau de confiance de 99%\n",
    "VaR_Anal =(std_return * z_score_99)*BDT_sum_Val_Port_df['Valeur'][0]\n",
    "print(\"La VaR au seuil de 99% à l'horizon 1 jours est :\", VaR_Anal )"
   ]
  },
  {
   "cell_type": "markdown",
   "metadata": {},
   "source": [
    "Il y a une autre chose a montrer est que si la dist n'est pas normale on va utiliser le quantile corrigé $w_{\\alpha}$ defini par la formule suivante:  \n",
    "$$\n",
    "\\boxed{w_{\\alpha}=z_{\\alpha}+\\frac{1}{6}(z_{\\alpha}^{2}-1)S+\\frac{1}{24}(z_{\\alpha}^{3}-3z_{\\alpha})K-\\frac{1}{36}(2z_{\\alpha}^{3}-5z_{\\alpha})S^{2}}\n",
    "$$\n",
    "\n",
    "Le calcul de la Value-at-Risk se fait de manière similaire au calcul de la VaR dans le cas d’une loi \n",
    "normale. Il suffit alors de remplacer $z-score_{99\\%}$ par $w_α$."
   ]
  },
  {
   "cell_type": "code",
   "execution_count": null,
   "metadata": {},
   "outputs": [],
   "source": [
    "dff=dff.dropna()\n",
    "from scipy.stats import skew, kurtosis # type: ignore\n",
    "\n",
    "# Calcul du coefficient de skewness\n",
    "skewness = skew(dff['Rendement'])\n",
    "\n",
    "# Calcul du coefficient de kurtosis\n",
    "kurt = kurtosis(dff['Rendement'])\n",
    "\n",
    "print(\"Coefficient de skewness (pour une distribution de la loi normale soit egal =0):\", skewness)\n",
    "print(\"Coefficient de kurtosis (pour une distribution de la loi normale soit egal =3):\", kurt)  "
   ]
  },
  {
   "cell_type": "code",
   "execution_count": null,
   "metadata": {},
   "outputs": [],
   "source": [
    "import numpy as np\n",
    "\n",
    "def w_alpha(z_alpha, S, K):\n",
    "    \"\"\"\n",
    "    Calcule w_alpha selon la formule donnée.\n",
    "    \n",
    "    Arguments:\n",
    "    z_alpha -- quantile de la loi normale\n",
    "    S -- asymétrie (skewness)\n",
    "    K -- kurtosis (kurtosis)\n",
    "    \n",
    "    Retourne:\n",
    "    w_alpha -- valeur calculée selon la formule\n",
    "    \"\"\"\n",
    "    term1 = z_alpha\n",
    "    term2 = (z_alpha**2 - 1) * S / 6\n",
    "    term3 = (z_alpha**3 - 3 * z_alpha) * K / 24\n",
    "    term4 = -(2 * z_alpha**3 - 5 * z_alpha) * S**2 / 36\n",
    "    \n",
    "    w_alpha = term1 + term2 + term3 + term4\n",
    "    return w_alpha\n",
    "\n",
    "# Exemple d'utilisation\n",
    "z_alpha = 2.33  # Quantile pour un niveau de confiance de 99%\n",
    "S = 0.1         # Exemple d'asymétrie\n",
    "K = 3.0         # Exemple de kurtosis\n",
    "\n",
    "w_alpha_value = w_alpha(z_alpha, S, K)\n",
    "print(f\"w_alpha = {w_alpha_value}\")\n"
   ]
  },
  {
   "cell_type": "code",
   "execution_count": null,
   "metadata": {},
   "outputs": [],
   "source": [
    "calculate_w(0.99, 2.33, 0.1, 3)"
   ]
  },
  {
   "cell_type": "code",
   "execution_count": null,
   "metadata": {},
   "outputs": [],
   "source": [
    "def calculate_w(alpha, z_alpha, S, K):\n",
    "    w_alpha = z_alpha + (1/6) * (z_alpha**2 - 1) * S + (1/24) * (z_alpha**3 - 3*z_alpha) * K - (1/36) * (2*z_alpha**3 - 5*z_alpha) * S**2\n",
    "    return w_alpha\n",
    "\n",
    "# Exemple d'utilisation avec des valeurs arbitraires pour alpha, z_alpha, S et K \n",
    "alpha = 0.99                                                 \n",
    "z_alpha = 2.33  # Z-score pour un niveau de confiance de 99%\n",
    "S = skewness  # Coefficient de skewness de vos données\n",
    "K = kurt  # Coefficient de kurtosis de vos données\n",
    "\n",
    "w_alpha = calculate_w(alpha, z_alpha, S, K)               \n",
    "print(\"w_alpha :\", w_alpha)"
   ]
  },
  {
   "cell_type": "code",
   "execution_count": null,
   "metadata": {},
   "outputs": [],
   "source": [
    "# Calcul de la VaR dans le cas où la distribution non normale                                \n",
    "VaR_99 = mean_return + std_return * w_alpha                                \n",
    "print(\"La VaR au seuil de 99% est :\", VaR_99)                                \n",
    "print(\"La VaR au seuil de 99% à l'horizon 1 jours est :\",VaR_99*18_329_481_999.0639 )                                "
   ]
  },
  {
   "cell_type": "markdown",
   "metadata": {},
   "source": [
    "La VaR au seuil de 99% est : 0.012370793159665617\n",
    "La VaR au seuil de 99% à l'horizon 1 jours est : 0.004675720317299167"
   ]
  },
  {
   "cell_type": "markdown",
   "metadata": {},
   "source": [
    "Dans ce cas on va utiliser la distribution de student"
   ]
  },
  {
   "cell_type": "markdown",
   "metadata": {},
   "source": [
    "-- VaR_Monte Carlo(vaR1) == 17210565.9239455\n",
    "\n",
    "-- VaR_Historique(VaR2) == 94496602.54789686\n",
    "\n",
    "-- VaR_Anlytique(VaR3) == 0.004675720317299167\\*17679101586= 82662534.47725613 (Normal) 0.010686572402988058\\*17679101586 188928999.11857(Student)"
   ]
  },
  {
   "cell_type": "markdown",
   "metadata": {},
   "source": [
    "\n",
    "$$\n",
    "\\text{{VaR\\_Anlytique(VaR3)}} = \\left\\{\n",
    "\\begin{array}{ll}\n",
    "82662534.47725613 & \\text{{(Normal)}} \\\\\n",
    "188928999.11857 & \\text{{(Student)}}\n",
    "\\end{array}\n",
    "\\right.\n",
    "$$\n"
   ]
  },
  {
   "cell_type": "code",
   "execution_count": null,
   "metadata": {},
   "outputs": [],
   "source": [
    "\n",
    "\n",
    "# Supposons que vous ayez une liste de dates correspondant aux valeurs du portefeuille\n",
    "# Assurez-vous de remplacer [...] par vos propres dates\n",
    "\n",
    "# Supposons que vous ayez une liste de valeurs de portefeuille par date\n",
    "portefeuille_valeurs = ddf['P&L']  # Assurez-vous de remplacer [...] par vos propres valeurs de portefeuille\n",
    "dates=ddf['Date_De_Valeur']\n",
    "# Supposons que vous ayez une valeur fixe pour la VaR\n",
    "# VaR = 82662534.47725613  # Normal VaR\n",
    "# VaR= -188928999.11857  # Student\n",
    "# VaR = 94496602.54789686 # Historique\n",
    "VaR = 1527742059.542604 #Monte Carlo\n",
    "# Plot des valeurs de portefeuille\n",
    "plt.plot(dates, portefeuille_valeurs, label='Portefeuille')\n",
    "\n",
    "# Plot de la VaR (une droite horizontale)\n",
    "plt.axhline(y=VaR, color='r', linestyle='--', label='VaR')\n",
    "\n",
    "# Ajout de légendes et de titres\n",
    "plt.xlabel('Date')\n",
    "plt.ylabel('Valeur')\n",
    "plt.title('Evolution du Portefeuille et VaR')\n",
    "plt.legend()\n",
    "\n",
    "# Affichage du graphique\n",
    "plt.show()"
   ]
  },
  {
   "cell_type": "markdown",
   "metadata": {},
   "source": [
    "## using maximum likelihood"
   ]
  },
  {
   "cell_type": "markdown",
   "metadata": {},
   "source": [
    "Le modèle de CIR est le suivant: \n",
    "$$\n",
    "dr_t = α(µ − rt)dt + \\sqrt {r_t} \\sigma dW_t\n",
    "\n",
    "$$\n",
    "\n",
    "\\begin{equation}\n",
    "p(r_{t+\\Delta t} | r_t; \\theta, \\Delta t) = c e^{-u-v} \\left( \\frac{v}{u} \\right)^{ \\frac{q}{2}} I_q(2\\sqrt{uv}),\n",
    "\\end{equation}\n",
    "\n",
    "where\n",
    "\\begin{align*}\n",
    "c &= \\frac{2\\alpha}{\\sigma^2 (1 - e^{-\\alpha \\Delta t})}, \\\\\n",
    "u &= cr_te^{-\\alpha \\Delta t}, \\\\\n",
    "v &= cr_{t+\\Delta t}, \\\\\n",
    "q &= \\frac{2\\alpha\\mu}{\\sigma^2} - 1,\n",
    "\\end{align*}\n",
    "\n",
    "and $I_q(2\\sqrt{uv})$ is the modified Bessel function of the first kind and of order $q$.\n"
   ]
  },
  {
   "cell_type": "markdown",
   "metadata": {},
   "source": [
    "# *******************************"
   ]
  },
  {
   "cell_type": "code",
   "execution_count": null,
   "metadata": {},
   "outputs": [],
   "source": [
    "rt=df_c['1 J']\n",
    "rt"
   ]
  },
  {
   "cell_type": "markdown",
   "metadata": {},
   "source": [
    "#*************************************"
   ]
  },
  {
   "cell_type": "code",
   "execution_count": null,
   "metadata": {},
   "outputs": [],
   "source": [
    "import numpy as np\n",
    "import pandas as pd\n",
    "from scipy.optimize import minimize\n",
    "from scipy.special import iv  # Modified Bessel function of the first kind\n",
    "\n",
    "# # Supposons que rt soit la série temporelle des taux d'intérêt\n",
    "rt = df_c['1 J'].values\n"
   ]
  },
  {
   "cell_type": "code",
   "execution_count": null,
   "metadata": {},
   "outputs": [],
   "source": [
    "import numpy as np\n",
    "import pandas as pd\n",
    "from scipy.optimize import minimize\n",
    "from scipy.special import iv  # Modified Bessel function of the first kind\n",
    "\n",
    "# # Supposons que rt soit la série temporelle des taux d'intérêt\n",
    "rt = df_c['1 J'].values\n",
    "\n",
    "N = len(rt)        \n",
    "delta_t = 1 # Intervalle de temps (par exemple, 1 jour)        \n",
    "\n",
    "# Fonction pour calculer les estimations initiales d'alpha et mu        \n",
    "def initial_estimates(rt, delta_t):\n",
    "    y = (rt[1:] - rt[:-1]) / np.sqrt(rt[:-1])\n",
    "    X = np.vstack([1/np.sqrt(rt[:-1]), np.sqrt(rt[:-1]) * delta_t]).T\n",
    "    beta = np.linalg.lstsq(X, y, rcond=None)[0]\n",
    "    alpha = -beta[1] / delta_t\n",
    "    mu = beta[0] / (beta[1] * delta_t)\n",
    "    return alpha, mu\n",
    "\n",
    "# Estimation initiale de sigma\n",
    "def estimate_sigma(rt, alpha, mu, delta_t):\n",
    "    residuals = (rt[1:] - rt[:-1] - alpha * (mu - rt[:-1]) * delta_t) / np.sqrt(rt[:-1])\n",
    "    sigma = np.std(residuals)\n",
    "    return sigma\n",
    "\n",
    "# Fonction de log-vraisemblance\n",
    "def log_likelihood(theta, rt, delta_t):\n",
    "    alpha, mu, sigma = theta\n",
    "    N = len(rt)\n",
    "    c = 2 * alpha / (sigma**2 * (1 - np.exp(-alpha * delta_t)))\n",
    "    q = 2 * alpha * mu / sigma**2 - 1\n",
    "    \n",
    "    log_lik = 0\n",
    "    for i in range(N - 1):\n",
    "        u = c * rt[i] * np.exp(-alpha * delta_t)\n",
    "        v = c * rt[i+1]\n",
    "        log_lik += (np.log(c) - u - v + 0.5 * q * np.log(v/u) + np.log(iv(q, 2 * np.sqrt(u * v))))\n",
    "    return -log_lik\n",
    "\n",
    "# Calculer les estimations initiales\n",
    "# alpha_init, mu_init = 0.1, 0.05\n",
    "# sigma_init = 0.02\n",
    "alpha_init, mu_init=initial_estimates(rt, delta_t)\n",
    "\n",
    "alpha_init, mu_init = 0.1137805121585627, 0.04311965977532673\n",
    "sigma_init = 0.019999641509027735\n",
    "\n",
    "# Estimations initiales\n",
    "theta_init = [alpha_init, mu_init, sigma_init]\n",
    "\n",
    "# Maximiser la log-vraisemblance\n",
    "result = minimize(log_likelihood, theta_init, args=(rt, delta_t), bounds=((0, None), (0, None), (0, None)), method=\"L-BFGS-B\")\n",
    "\n",
    "# Estimations finales\n",
    "alpha_est, mu_est, sigma_est = result.x\n",
    "\n",
    "print(f\"Estimation de alpha: {alpha_est}\")\n",
    "print(f\"Estimation de mu: {mu_est}\")\n",
    "print(f\"Estimation de sigma: {sigma_est}\")"
   ]
  },
  {
   "cell_type": "code",
   "execution_count": null,
   "metadata": {},
   "outputs": [],
   "source": [
    "import numpy as np\n",
    "import pandas as pd\n",
    "\n",
    "# Supposons que rt soit la série temporelle des taux d'intérêt\n",
    "rt = df_c['1 J'].values\n",
    "\n",
    "N = len(rt)\n",
    "delta_t = 1  # Intervalle de temps (par exemple, 1 jour)\n",
    "\n",
    "# Calculer les sommes nécessaires\n",
    "sum_rt = np.sum(rt[:-1])\n",
    "sum_rt_next = np.sum(rt[1:])\n",
    "sum_1_rt = np.sum(1 / rt[:-1])\n",
    "sum_rt_rt_next = np.sum(rt[1:] / rt[:-1])\n",
    "sum_rt_1_rt = np.sum(rt[:-1] / rt[:-1])\n",
    "\n",
    "# Calculer alpha\n",
    "numerator_alpha = N**2 - 2*N + 1 + sum_rt_next * sum_1_rt - sum_rt * sum_1_rt - (N - 1) * sum_rt_rt_next\n",
    "denominator_alpha = (N**2 - 2*N + 1 - sum_rt * sum_1_rt) * delta_t\n",
    "\n",
    "alpha = numerator_alpha / denominator_alpha\n",
    "\n",
    "# Calculer mu\n",
    "\n",
    "numerator_mu = (N - 1) * sum_rt_next - sum_rt_rt_next * sum_rt \n",
    "denominator_mu = N**2 - 2*N + 1 + sum_rt_next * sum_1_rt - sum_rt * sum_1_rt - (N - 1) * sum_rt_rt_next\n",
    "\n",
    "mu = numerator_mu / denominator_mu\n",
    "\n",
    "print(f\"Estimation de alpha: {alpha}\")\n",
    "print(f\"Estimation de mu: {mu}\")\n"
   ]
  },
  {
   "cell_type": "code",
   "execution_count": null,
   "metadata": {},
   "outputs": [],
   "source": [
    "residuals = (rt[1:] - rt[:-1] - alpha * (mu - rt[:-1]) * delta_t) / np.sqrt(rt[:-1])\n",
    "\n",
    "# Estimer sigma\n",
    "sigma = np.std(residuals)\n",
    "print(f\"Estimation de sigma: {sigma}\")"
   ]
  },
  {
   "cell_type": "code",
   "execution_count": null,
   "metadata": {},
   "outputs": [],
   "source": [
    "\n",
    "# Charger les données\n",
    "data = pd.read_excel('data.xlsx')\n",
    "\n",
    "# Convertir les dates en datetime\n",
    "data['Date de référence'] = pd.to_datetime(data['Date de référence'])\n",
    "\n",
    "# Trier les données par date\n",
    "data = data.sort_values(by='Date de référence')\n",
    "\n",
    "# Calculer les rendements log\n",
    "data['1J_log_return'] = np.log(data['1 J'] / data['1 J'].shift(1))\n",
    "\n",
    "# Retirer les NaN résultants du décalage\n",
    "data = data.dropna()\n",
    "\n",
    "# Afficher les premières lignes des données avec les rendements\n",
    "data.head()\n"
   ]
  },
  {
   "cell_type": "code",
   "execution_count": null,
   "metadata": {},
   "outputs": [],
   "source": [
    "from scipy.optimize import minimize\n",
    "\n",
    "# Fonction pour calculer la vraisemblance négative du modèle CIR\n",
    "def neg_log_likelihood(params, returns):\n",
    "    a, b, sigma = params\n",
    "    n = len(returns)\n",
    "    likelihood = -np.sum(-0.5 * (returns**2) / (sigma**2 * returns) - 0.5 * np.log(2 * np.pi * sigma**2 * returns))\n",
    "    return -likelihood\n",
    "\n",
    "# Initialiser les paramètres\n",
    "initial_params = [0.1, 0.05, 0.02]\n",
    "\n",
    "# Effectuer l'optimisation pour trouver les meilleurs paramètres\n",
    "result = minimize(neg_log_likelihood, initial_params, args=(data['1J_log_return'],), method='L-BFGS-B', bounds=[(0, None), (0, None), (0, None)])\n",
    "\n",
    "# Extraire les paramètres optimisés\n",
    "a_opt, b_opt, sigma_opt = result.x\n",
    "\n",
    "print(f\"Paramètres optimisés du modèle CIR:\\na = {a_opt}\\nb = {b_opt}\\nsigma = {sigma_opt}\")"
   ]
  },
  {
   "cell_type": "markdown",
   "metadata": {},
   "source": [
    "# Visualisation"
   ]
  },
  {
   "cell_type": "markdown",
   "metadata": {},
   "source": [
    "### Visaulisation des courbes"
   ]
  },
  {
   "cell_type": "code",
   "execution_count": null,
   "metadata": {},
   "outputs": [],
   "source": [
    "def plot_curves(date_specifique):\n",
    "    donnees_date_specifique = df[df[\"Date de référence\"] == date_specifique]\n",
    "    donnees_modeled_specifique = data_Modeled_CIR[data_Modeled_CIR[\"Date de référence\"] == date_specifique]\n",
    "    \n",
    "    if donnees_date_specifique.empty or donnees_modeled_specifique.empty:\n",
    "        print(f\"Aucune donnée trouvée pour la date {date_specifique}.\")\n",
    "        return\n",
    "    \n",
    "    taux_observés = donnees_date_specifique.iloc[0, 1:].values.astype(float)\n",
    "    taux_modélisés = donnees_modeled_specifique.iloc[0, 1:].values.astype(float)\n",
    "    \n",
    "    # Tracer les courbes des taux zéro-coupon observés et modélisés\n",
    "    plt.figure(figsize=(10, 6))\n",
    "    plt.plot(maturities, taux_observés, label='Taux zéro-coupon observés', marker='o')\n",
    "    plt.plot(maturities, taux_modélisés, label='Taux zéro-coupon modélisés', marker='x')\n",
    "    plt.xlabel('Maturités (en années)')\n",
    "    plt.ylabel('Taux')\n",
    "    plt.title(f'Courbe des taux zéro-coupon observés et modélisés pour le {date_specifique}')\n",
    "    plt.legend()\n",
    "    plt.grid(True)\n",
    "    plt.xticks(rotation=45)\n",
    "    plt.savefig('courbe.pdf')\n",
    "    plt.show()"
   ]
  },
  {
   "cell_type": "code",
   "execution_count": null,
   "metadata": {},
   "outputs": [],
   "source": [
    "# date=df['Date de référence'][6]\n",
    "date=\"2024-04-01\"\n",
    "plot_curves(date)\n",
    "\n",
    "\n"
   ]
  },
  {
   "cell_type": "code",
   "execution_count": null,
   "metadata": {},
   "outputs": [],
   "source": [
    "VaR_Anal"
   ]
  },
  {
   "cell_type": "code",
   "execution_count": 153,
   "metadata": {},
   "outputs": [
    {
     "data": {
      "image/png": "[encoded data removed]",
      "text/plain": [
       "<Figure size 1000x600 with 1 Axes>"
      ]
     },
     "metadata": {},
     "output_type": "display_data"
    }
   ],
   "source": [
    "def Plot_Value_At_Risk(VaR_MonteCa,VaR_Hist, VaR_Anal):\n",
    "    plt.figure(figsize=(10, 6))\n",
    "    plt.plot(BDT_sum_Val_Port_df['Date_De_Valeur'], BDT_sum_Val_Port_df['P&L'], label='P&L', color='blue')\n",
    "\n",
    "    # Ajouter une ligne horizontale pour la VaR\n",
    "    # plt.axhline(y=VaR_Hist, color='red', linestyle='--', linewidth=2, label=f'VaR_Hist (99%) = {-VaR_Hist:.2f}')\n",
    "    # plt.axhline(y=VaR_MonteCa, color='green', linestyle='--', linewidth=2, label=f'VaR_Mont (99%) = {-VaR_MonteCa:.2f}')\n",
    "    plt.axhline(y=-VaR_Anal, color='black', linestyle='--', linewidth=2, label=f'VaR_Anal (99%) = {VaR_Anal:.2f}')\n",
    "\n",
    "    # Ajouter des étiquettes et un titre\n",
    "    plt.title('P&L au fil du temps avec VaR')\n",
    "    plt.xlabel('Date')\n",
    "    plt.ylabel('P&L')\n",
    "    plt.legend()\n",
    "    # Afficher la figure\n",
    "    plt.savefig(\"VaR_Hist.pdf\")\n",
    "    plt.show()\n",
    "Plot_Value_At_Risk(VaR_MonteCa,VaR_Hist, VaR_Anal)"
   ]
  },
  {
   "cell_type": "code",
   "execution_count": 150,
   "metadata": {},
   "outputs": [
    {
     "data": {
      "image/png": "[encoded data removed]",
      "text/plain": [
       "<Figure size 1000x600 with 1 Axes>"
      ]
     },
     "metadata": {},
     "output_type": "display_data"
    }
   ],
   "source": [
    "def Plot_Value_At_Risk(VaR_MonteCa,VaR_Hist, VaR_Anal):\n",
    "    plt.figure(figsize=(10, 6))\n",
    "    plt.plot(BDT_sum_Val_Port_df['Date_De_Valeur'], BDT_sum_Val_Port_df['P&L'], label='P&L', color='blue')\n",
    "\n",
    "    # Ajouter une ligne horizontale pour la VaR\n",
    "    plt.axhline(y=VaR_Hist, color='red', linestyle='--', linewidth=2, label=f'VaR_Hist (99%) = {-VaR_Hist:.2f}')\n",
    "    # plt.axhline(y=VaR_MonteCa, color='green', linestyle='--', linewidth=2, label=f'VaR_Mont (99%) = {-VaR_MonteCa:.2f}')\n",
    "    # plt.axhline(y=-VaR_Anal, color='black', linestyle='--', linewidth=2, label=f'VaR_Anal (99%) = {VaR_Anal:.2f}')\n",
    "\n",
    "    # Ajouter des étiquettes et un titre\n",
    "    plt.title('P&L au fil du temps avec VaR')\n",
    "    plt.xlabel('Date')\n",
    "    plt.ylabel('P&L')\n",
    "    plt.legend()\n",
    "    # Afficher la figure\n",
    "    plt.savefig(\"VaR_Hist.pdf\")\n",
    "    plt.show()\n",
    "Plot_Value_At_Risk(VaR_MonteCa,VaR_Hist, VaR_Anal)"
   ]
  },
  {
   "cell_type": "code",
   "execution_count": 148,
   "metadata": {},
   "outputs": [
    {
     "name": "stdout",
     "output_type": "stream",
     "text": [
      "Nombre d'exceptions : 13\n",
      "Statistique du test Kupiec POF : 42.462473927646215\n",
      "Valeur p : 7.205142601997121e-11\n"
     ]
    }
   ],
   "source": [
    "import numpy as np\n",
    "import pandas as pd\n",
    "from scipy.stats import chi2\n",
    "\n",
    "dff\n",
    "VaR = VaR_Anal\n",
    "\n",
    "# Calcul des exceptions\n",
    "dff['Exception'] = dff['P&L'] >VaR\n",
    "num_exceptions = dff['Exception'].sum()\n",
    "\n",
    "# Parametres pour le test Kupiec POF\n",
    "T = len(dff)  # Nombre total d'observations\n",
    "p = 0.01  # Taux de defaillance attendu (pour une VaR au niveau de confiance de 99%, p = 1 - 0.99)\n",
    "\n",
    "# Statistique du test Kupiec POF\n",
    "LR_pof = -2 * np.log(((1 - p)**(T - num_exceptions) * p**num_exceptions) / \n",
    "                     ((1 - num_exceptions/T)**(T - num_exceptions) * (num_exceptions/T)**num_exceptions))\n",
    "\n",
    "# Valeur p pour la statistique du test\n",
    "p_value = chi2.sf(LR_pof, 1)\n",
    "\n",
    "print(f\"Nombre d'exceptions : {num_exceptions}\")\n",
    "print(f\"Statistique du test Kupiec POF : {LR_pof}\")\n",
    "print(f\"Valeur p : {p_value}\")\n"
   ]
  },
  {
   "cell_type": "code",
   "execution_count": 145,
   "metadata": {},
   "outputs": [
    {
     "data": {
      "text/plain": [
       "131068145.57452524"
      ]
     },
     "execution_count": 145,
     "metadata": {},
     "output_type": "execute_result"
    }
   ],
   "source": [
    "VaR_Anal"
   ]
  }
 ],
 "metadata": {
  "kernelspec": {
   "display_name": "Python 3 (ipykernel)",
   "language": "python",
   "name": "python3"
  },
  "language_info": {
   "codemirror_mode": {
    "name": "ipython",
    "version": 3
   },
   "file_extension": ".py",
   "mimetype": "text/x-python",
   "name": "python",
   "nbconvert_exporter": "python",
   "pygments_lexer": "ipython3",
   "version": "3.11.0"
  }
 },
 "nbformat": 4,
 "nbformat_minor": 2
}
